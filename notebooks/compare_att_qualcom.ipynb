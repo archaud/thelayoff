{
 "cells": [
  {
   "cell_type": "markdown",
   "id": "sexual-crash",
   "metadata": {},
   "source": [
    "# Assignment: Distinguish Two Categories\n",
    "\n",
    "## Data description\n",
    "\n",
    "### Corpus: All posts up to Jan 12th on www.thelayoff.com\n",
    "\n",
    "### 1. Motivation\n",
    "\n",
    "#### For what purpose was the dataset created?\n",
    "\n",
    "Thelayoff.com provides the following rationale for its existence: \n",
    "\n",
    "\"The workforce reduction process is inherently secretive and plagued with rumors. Companies release little or no details while planning such resource actions. On the other hand, the lives of each of us may be greatly impacted by these top-secret decisions - hence all the anxiety that workers may experience.Enter TheLayoff.com - The purpose of this site is to provide a space for anyone who'd like to discuss the possibility, likelihood or impacts of layoffs in a company of interest.\"\n",
    "\n",
    "#### Who created the dataset?\n",
    "\n",
    "The raw data came in organically as people posted about layoffs. I then scraped and tabulated it. \n",
    "\n",
    "### 2. Composition\n",
    "\n",
    "#### What do the instances that comprise the dataset represent?\n",
    "\n",
    "Each observation in the dataset represents one forum post on the site. All text from the title, content, and replies have been combined into a single document. The text has metadata including the company the post is about, the number of replies, the date, etc. The companies, in turn, have metadata like industry, stock ticker (if available), revenue information, etc.\n",
    "\n",
    "#### How many instances are there in total?\n",
    "\n",
    "There are just over 250 thousand posts on the forum, from just over 37 thousand companies. The distribution of posts and words across companies almost perfectly follows a power law:\n",
    "\n",
    "<img src=\"../img/post_dist.png\" width=\"40%\">\n",
    "\n",
    "<img src=\"../img/word_dist.png\" width=\"40%\">\n",
    "\n",
    "#### Does the dataset contain all possible instances or is it a sample (not necessarily random) of instances from a larger set?\n",
    "\n",
    "The data include every post on the site, not a sample. However, it's not entirely clear what population is represented. Given the types of companies heavily represented, I assume this is a population of primarily white-collar workers experiencing insecurity (or getting laid off) in their employment. Then, the type of people who would post about this on forums likely don't perfectly represent the population of workers at these companies.\n",
    "\n",
    "#### Is there a label or target associated with each instance\n",
    "\n",
    "There are several labels/targets that could be used, depending on the goal of the analysis. One could try to predict the company a post is about (which is what I do in this notebook), but this is kind of boring. More interesting might be to try and predict industry, which is given in the data, or to predict some other outside company-level variable, like within-company wage inequality or occurrences of actual layoffs as reported in the news.\n",
    "\n",
    "#### Is any information missing from individual instances?\n",
    "\n",
    "I don't think so, but will have to keep looking\n",
    "\n",
    "#### Does the dataset contain data that, if viewed directly, might be offensive, insulting, threatening, or might otherwise cause anxiety?\n",
    "\n",
    "Maybe. There are a lot of angry people on this forum, although curse words are censored with \"-\"s.\n",
    "\n",
    "#### Is it possible to identify individuals (i.e., one or more natural persons), either directly or indirectly (i.e., in combination with other data) from the dataset?\n",
    "\n",
    "No. In fact, all posts are completely anonymous, which is both a blessing and a curse\n",
    "\n",
    "#### What mechanisms or procedures were used to collect the data (e.g., hardware apparatus or sensor, manual human curation, software program, software API)? \n",
    "\n",
    "I used the rvest R package. Companies on the site are indexed alphabetically. I first scraped the alphabetical index page for the urls of company pages, then scraped the company pages for urls to individual posts, then scraped each post.\n",
    "\n",
    "#### Over what timeframe was the data collected?\n",
    "\n",
    "January 2021\n",
    "\n",
    "#### Was the “raw” data saved in addition to the preprocessed/cleaned/labeled data (e.g., to support unanticipated future uses)?\n",
    "\n",
    "Yes, I have the raw data in the form of 250k jsons. It's really annoying to work with so I put them into the text-file used below.\n",
    "\n",
    "\n",
    "----\n",
    "\n",
    "## Prior guesses about what will distinguish categories\n",
    "\n",
    "For this exercise, I'm just going to distinguish qualcomm posts from at&t posts which is kind of boring and not the actual point of the data. I expect to find that the names of the companies will be the most distinguishing words, by far"
   ]
  },
  {
   "cell_type": "code",
   "execution_count": 84,
   "id": "valuable-blogger",
   "metadata": {},
   "outputs": [],
   "source": [
    "import os\n",
    "import csv\n",
    "\n",
    "from tqdm import tqdm\n",
    "from collections import Counter\n",
    "\n",
    "import nltk\n",
    "from nltk.corpus import stopwords\n",
    "\n",
    "import numpy as np\n",
    "import matplotlib.pyplot as plt"
   ]
  },
  {
   "cell_type": "code",
   "execution_count": 81,
   "id": "vital-stadium",
   "metadata": {},
   "outputs": [
    {
     "name": "stderr",
     "output_type": "stream",
     "text": [
      "[nltk_data] Downloading package punkt to /home/jovyan/nltk_data...\n",
      "[nltk_data]   Package punkt is already up-to-date!\n",
      "[nltk_data] Downloading package stopwords to /home/jovyan/nltk_data...\n",
      "[nltk_data]   Unzipping corpora/stopwords.zip.\n"
     ]
    },
    {
     "data": {
      "text/plain": [
       "True"
      ]
     },
     "execution_count": 81,
     "metadata": {},
     "output_type": "execute_result"
    }
   ],
   "source": [
    "nltk.download('punkt')\n",
    "nltk.download('stopwords')"
   ]
  },
  {
   "cell_type": "code",
   "execution_count": 85,
   "id": "emerging-approval",
   "metadata": {},
   "outputs": [],
   "source": [
    "data_dir = \"/home/jovyan/work/Dropbox/thelayoff\"\n",
    "input_file = os.path.join(data_dir, \"all_posts.txt\")"
   ]
  },
  {
   "cell_type": "markdown",
   "id": "corresponding-count",
   "metadata": {},
   "source": [
    " #### Tokenizer function\n",
    " \n",
    " This function uses the nltk tokenizer and removes a basic set of stopwords from the corpus"
   ]
  },
  {
   "cell_type": "code",
   "execution_count": 86,
   "id": "welcome-wheel",
   "metadata": {},
   "outputs": [],
   "source": [
    "def tokenize_and_clean(document):\n",
    "    tokens = nltk.word_tokenize(document)\n",
    "    tokens_filtered = [word for word in tokens if word not in stopwords.words('english')]\n",
    "    return tokens_filtered"
   ]
  },
  {
   "cell_type": "code",
   "execution_count": 87,
   "id": "phantom-morgan",
   "metadata": {},
   "outputs": [
    {
     "name": "stderr",
     "output_type": "stream",
     "text": [
      "250837it [10:08, 412.55it/s]\n"
     ]
    }
   ],
   "source": [
    "qualcomm_counter = Counter()\n",
    "atandt_counter = Counter()\n",
    "qualcomm_companies = 0\n",
    "atandt_companies = 0\n",
    "qualcomm_posts = []\n",
    "atandt_posts = []\n",
    "\n",
    "with open(input_file) as file:\n",
    "    rd = csv.reader(file, delimiter = \"\\t\", quotechar = '\"')\n",
    "    for row in tqdm(rd):\n",
    "        \n",
    "        company = row[1]\n",
    "        \n",
    "        # only deal with these qc and at&t\n",
    "        if company == 'https://www.thelayoff.com/qualcomm':\n",
    "            qualcomm_companies += 1\n",
    "            tokens = tokenize_and_clean(row[4])\n",
    "            qualcomm_counter.update(tokens)\n",
    "            qualcomm_posts.append(row[4])\n",
    "            \n",
    "        elif company == 'https://www.thelayoff.com/at-and-t':\n",
    "            atandt_companies += 1\n",
    "            tokens = tokenize_and_clean(row[4])\n",
    "            atandt_counter.update(tokens)\n",
    "            atandt_posts.append(row[4])\n",
    "            "
   ]
  },
  {
   "cell_type": "code",
   "execution_count": 88,
   "id": "ambient-mounting",
   "metadata": {},
   "outputs": [
    {
     "name": "stdout",
     "output_type": "stream",
     "text": [
      "8599\n",
      "8712\n"
     ]
    }
   ],
   "source": [
    "print(qualcomm_companies)\n",
    "print(atandt_companies)"
   ]
  },
  {
   "cell_type": "code",
   "execution_count": 89,
   "id": "alike-expense",
   "metadata": {},
   "outputs": [
    {
     "data": {
      "text/plain": [
       "[('.', 76991),\n",
       " (',', 45161),\n",
       " ('I', 18024),\n",
       " ('?', 15763),\n",
       " ('!', 10912),\n",
       " (\"'s\", 8838),\n",
       " (\"n't\", 8692),\n",
       " ('...', 5517),\n",
       " (':', 5094),\n",
       " (')', 4852)]"
      ]
     },
     "execution_count": 89,
     "metadata": {},
     "output_type": "execute_result"
    }
   ],
   "source": [
    "qualcomm_counter.most_common(10)"
   ]
  },
  {
   "cell_type": "code",
   "execution_count": 90,
   "id": "useful-georgia",
   "metadata": {
    "scrolled": true
   },
   "outputs": [
    {
     "data": {
      "text/plain": [
       "[('.', 144426),\n",
       " (',', 83271),\n",
       " ('I', 41800),\n",
       " ('?', 22137),\n",
       " ('’', 20195),\n",
       " ('!', 16621),\n",
       " ('T', 16304),\n",
       " ('&', 15014),\n",
       " (\"n't\", 12713),\n",
       " (\"'s\", 12312)]"
      ]
     },
     "execution_count": 90,
     "metadata": {},
     "output_type": "execute_result"
    }
   ],
   "source": [
    "atandt_counter.most_common(10)"
   ]
  },
  {
   "cell_type": "markdown",
   "id": "minute-bridge",
   "metadata": {},
   "source": [
    "### Analyze vocabulary "
   ]
  },
  {
   "cell_type": "code",
   "execution_count": 91,
   "id": "signal-skating",
   "metadata": {},
   "outputs": [
    {
     "name": "stdout",
     "output_type": "stream",
     "text": [
      "['*', 'ANOTHER', 'ROUND', 'PLANNED', 'END', 'OF', 'THIS', 'YEAR', 'Additional', 'Layoffs', 'and', 'Cuts', 'to', 'be', 'announced', 'at', 'of', 'this', 'year', '.'] ['mutations', 'evade', 'mutating', 'rate1/1,000', 'Tighter', 'FilmStruck', 'Direct-To-Consumer', 'operandi', 'skankey', 'executives/home', 'Indirect/Authorized', '09.15.2016', '11.15.2016', '04.01.2017', 'AE/RAEs', 'bumping/logging', 'Timelines', '10/1/2016', 'Barista', 'Hustlers']\n"
     ]
    }
   ],
   "source": [
    "print(vocabulary[:20], vocabulary[-20:])"
   ]
  },
  {
   "cell_type": "code",
   "execution_count": 92,
   "id": "retired-induction",
   "metadata": {},
   "outputs": [
    {
     "data": {
      "text/plain": [
       "98903"
      ]
     },
     "execution_count": 92,
     "metadata": {},
     "output_type": "execute_result"
    }
   ],
   "source": [
    "all_counter = qualcomm_counter + atandt_counter\n",
    "vocabulary = list(all_counter.keys())\n",
    "len(vocabulary)"
   ]
  },
  {
   "cell_type": "code",
   "execution_count": 93,
   "id": "plain-moore",
   "metadata": {},
   "outputs": [
    {
     "data": {
      "text/plain": [
       "[(1, 56743),\n",
       " (2, 11317),\n",
       " (3, 5420),\n",
       " (4, 3426),\n",
       " (5, 2328),\n",
       " (6, 1748),\n",
       " (7, 1429),\n",
       " (8, 1164),\n",
       " (9, 937),\n",
       " (10, 767)]"
      ]
     },
     "execution_count": 93,
     "metadata": {},
     "output_type": "execute_result"
    }
   ],
   "source": [
    "# check Zipf's law\n",
    "Counter(all_counter.values()).most_common(10)"
   ]
  },
  {
   "cell_type": "code",
   "execution_count": 94,
   "id": "competent-column",
   "metadata": {},
   "outputs": [
    {
     "data": {
      "text/plain": [
       "(1045710, 1965048)"
      ]
     },
     "execution_count": 94,
     "metadata": {},
     "output_type": "execute_result"
    }
   ],
   "source": [
    "qc_tokens = sum(qualcomm_counter.values())\n",
    "at_tokens = sum(atandt_counter.values())\n",
    "qc_tokens, at_tokens"
   ]
  },
  {
   "cell_type": "code",
   "execution_count": 96,
   "id": "copyrighted-agency",
   "metadata": {},
   "outputs": [
    {
     "name": "stdout",
     "output_type": "stream",
     "text": [
      "221417\t0.0735\t7.4%\t.\n",
      "128432\t0.0427\t11.6%\t,\n",
      "59824\t0.0199\t13.6%\tI\n",
      "37900\t0.0126\t14.9%\t?\n",
      "27533\t0.0091\t15.8%\t!\n",
      "22323\t0.0074\t16.5%\t’\n",
      "21405\t0.0071\t17.2%\tn't\n",
      "21150\t0.0070\t17.9%\t's\n",
      "16528\t0.0055\t18.5%\tT\n",
      "16221\t0.0054\t19.0%\t&\n",
      "15207\t0.0051\t19.5%\tcompany\n",
      "14989\t0.0050\t20.0%\tget\n",
      "14572\t0.0048\t20.5%\tThe\n",
      "13070\t0.0043\t20.9%\tpeople\n",
      "12524\t0.0042\t21.4%\t...\n",
      "12230\t0.0041\t21.8%\t)\n",
      "12230\t0.0041\t22.2%\t``\n",
      "12224\t0.0041\t22.6%\twork\n",
      "11715\t0.0039\t23.0%\tAT\n",
      "11604\t0.0039\t23.4%\t''\n",
      "11366\t0.0038\t23.7%\t(\n",
      "11334\t0.0038\t24.1%\tlike\n",
      "11050\t0.0037\t24.5%\twould\n",
      "10468\t0.0035\t24.8%\tIt\n",
      "9596\t0.0032\t25.1%\t:\n",
      "9591\t0.0032\t25.5%\tone\n",
      "9223\t0.0031\t25.8%\ttime\n",
      "9021\t0.0030\t26.1%\t$\n",
      "8894\t0.0030\t26.4%\tjob\n",
      "8739\t0.0029\t26.7%\tyears\n",
      "8345\t0.0028\t26.9%\tIf\n",
      "8257\t0.0027\t27.2%\tknow\n",
      "7741\t0.0026\t27.5%\tThey\n",
      "7739\t0.0026\t27.7%\tYou\n",
      "7281\t0.0024\t28.0%\tgoing\n",
      "7239\t0.0024\t28.2%\tgood\n",
      "7220\t0.0024\t28.4%\t-\n",
      "7167\t0.0024\t28.7%\tgo\n",
      "7070\t0.0023\t28.9%\temployees\n",
      "6948\t0.0023\t29.1%\t%\n",
      "6379\t0.0021\t29.4%\tthink\n",
      "6023\t0.0020\t29.6%\tmany\n",
      "5999\t0.0020\t29.8%\tmake\n",
      "5985\t0.0020\t30.0%\tyear\n",
      "5969\t0.0020\t30.1%\t@\n",
      "5764\t0.0019\t30.3%\t....\n",
      "5631\t0.0019\t30.5%\tmuch\n",
      "5572\t0.0019\t30.7%\tThis\n",
      "5554\t0.0018\t30.9%\tnew\n",
      "5429\t0.0018\t31.1%\tpay\n",
      "5292\t0.0018\t31.3%\teven\n",
      "5137\t0.0017\t31.4%\tsee\n",
      "5098\t0.0017\t31.6%\tneed\n",
      "5065\t0.0017\t31.8%\twant\n",
      "5060\t0.0017\t31.9%\tway\n",
      "4986\t0.0017\t32.1%\tmanagement\n",
      "4969\t0.0017\t32.3%\tstill\n",
      "4940\t0.0016\t32.4%\tback\n",
      "4818\t0.0016\t32.6%\tQualcomm\n",
      "4806\t0.0016\t32.7%\tWhat\n",
      "4801\t0.0016\t32.9%\ttake\n",
      "4788\t0.0016\t33.1%\tus\n",
      "4663\t0.0015\t33.2%\tmoney\n",
      "4661\t0.0015\t33.4%\tgot\n",
      "4585\t0.0015\t33.5%\tWe\n",
      "4366\t0.0015\t33.7%\tlayoffs\n",
      "4336\t0.0014\t33.8%\tbetter\n",
      "4304\t0.0014\t34.0%\tcould\n",
      "4254\t0.0014\t34.1%\tAnd\n",
      "4220\t0.0014\t34.2%\t..\n",
      "4214\t0.0014\t34.4%\treally\n",
      "4155\t0.0014\t34.5%\tlast\n",
      "4115\t0.0014\t34.7%\tThat\n",
      "4068\t0.0014\t34.8%\tday\n",
      "4044\t0.0013\t34.9%\tSo\n",
      "4027\t0.0013\t35.1%\tjobs\n",
      "3990\t0.0013\t35.2%\tbusiness\n",
      "3981\t0.0013\t35.3%\t--\n",
      "3791\t0.0013\t35.4%\tnext\n",
      "3786\t0.0013\t35.6%\tQ\n",
      "3776\t0.0013\t35.7%\tNo\n",
      "3770\t0.0013\t35.8%\tright\n",
      "3718\t0.0012\t35.9%\tThere\n",
      "3646\t0.0012\t36.1%\twell\n",
      "3564\t0.0012\t36.2%\t're\n",
      "3502\t0.0012\t36.3%\tkeep\n",
      "3450\t0.0011\t36.4%\t'm\n",
      "3448\t0.0011\t36.5%\tanother\n",
      "3446\t0.0011\t36.6%\tnever\n",
      "3429\t0.0011\t36.8%\tsay\n",
      "3404\t0.0011\t36.9%\talso\n",
      "3381\t0.0011\t37.0%\tlong\n",
      "3347\t0.0011\t37.1%\t“\n",
      "3342\t0.0011\t37.2%\tworking\n",
      "3339\t0.0011\t37.3%\tcall\n",
      "3322\t0.0011\t37.4%\tlot\n",
      "3321\t0.0011\t37.5%\t2\n",
      "3311\t0.0011\t37.6%\tgetting\n",
      "3280\t0.0011\t37.8%\tstock\n",
      "3258\t0.0011\t37.9%\tsure\n"
     ]
    }
   ],
   "source": [
    "# 10 words make up about 37% of the collection\n",
    "\n",
    "cumulative_proportion = 0.0\n",
    "\n",
    "for w, c in all_counter.most_common(100):\n",
    "    proportion = c / (qc_tokens + at_tokens)\n",
    "    cumulative_proportion += proportion\n",
    "    \n",
    "    print(\"{}\\t{:.4f}\\t{:.1f}%\\t{}\".format(c, proportion, 100 * cumulative_proportion, w))"
   ]
  },
  {
   "cell_type": "code",
   "execution_count": 97,
   "id": "grave-latitude",
   "metadata": {},
   "outputs": [],
   "source": [
    "word_counts = np.zeros((len(vocabulary), 2))\n",
    "for row, word in enumerate(vocabulary):\n",
    "    word_counts[row,0] = qualcomm_counter[word]\n",
    "    word_counts[row,1] = atandt_counter[word]"
   ]
  },
  {
   "cell_type": "code",
   "execution_count": 98,
   "id": "compliant-roots",
   "metadata": {
    "scrolled": true
   },
   "outputs": [
    {
     "data": {
      "text/plain": [
       "array([[1.17e+03, 5.34e+02],\n",
       "       [5.00e+00, 6.00e+00],\n",
       "       [1.00e+00, 3.00e+00],\n",
       "       [1.00e+00, 1.00e+00],\n",
       "       [1.10e+01, 1.00e+01],\n",
       "       [2.50e+01, 1.14e+02],\n",
       "       [3.10e+01, 6.30e+01],\n",
       "       [6.00e+00, 1.60e+01],\n",
       "       [5.00e+00, 7.00e+00],\n",
       "       [2.36e+02, 4.58e+02]])"
      ]
     },
     "execution_count": 98,
     "metadata": {},
     "output_type": "execute_result"
    }
   ],
   "source": [
    "word_counts[:10,:]"
   ]
  },
  {
   "cell_type": "code",
   "execution_count": 99,
   "id": "attended-stocks",
   "metadata": {},
   "outputs": [
    {
     "data": {
      "text/plain": [
       "array([1045710., 1965048.])"
      ]
     },
     "execution_count": 99,
     "metadata": {},
     "output_type": "execute_result"
    }
   ],
   "source": [
    "# .sum(axis=0) sums along columns (ie [row,col])\n",
    "\n",
    "company_sums = word_counts.sum(axis=0)\n",
    "\n",
    "# Use np.newaxis to streeeeetch an array to the shape of\n",
    "# another array\n",
    "word_proportions = word_counts / company_sums[np.newaxis,:]\n",
    "\n",
    "company_sums"
   ]
  },
  {
   "cell_type": "code",
   "execution_count": 100,
   "id": "reasonable-karaoke",
   "metadata": {},
   "outputs": [
    {
     "data": {
      "text/plain": [
       "array([[1.11885704e-03, 2.71749087e-04],\n",
       "       [4.78144036e-06, 3.05336053e-06],\n",
       "       [9.56288072e-07, 1.52668026e-06],\n",
       "       [9.56288072e-07, 5.08893421e-07],\n",
       "       [1.05191688e-05, 5.08893421e-06],\n",
       "       [2.39072018e-05, 5.80138500e-05],\n",
       "       [2.96449302e-05, 3.20602856e-05],\n",
       "       [5.73772843e-06, 8.14229474e-06],\n",
       "       [4.78144036e-06, 3.56225395e-06],\n",
       "       [2.25683985e-04, 2.33073187e-04]])"
      ]
     },
     "execution_count": 100,
     "metadata": {},
     "output_type": "execute_result"
    }
   ],
   "source": [
    "word_proportions[:10,:]"
   ]
  },
  {
   "cell_type": "code",
   "execution_count": 101,
   "id": "acquired-probability",
   "metadata": {},
   "outputs": [
    {
     "data": {
      "text/plain": [
       "array([[1.12011029e-03, 2.71822955e-04],\n",
       "       [4.78146322e-06, 3.05336985e-06],\n",
       "       [9.56288987e-07, 1.52668260e-06],\n",
       "       [9.56288987e-07, 5.08893680e-07],\n",
       "       [1.05192794e-05, 5.08896011e-06],\n",
       "       [2.39077734e-05, 5.80172158e-05],\n",
       "       [2.96458091e-05, 3.20613134e-05],\n",
       "       [5.73776136e-06, 8.14236104e-06],\n",
       "       [4.78146322e-06, 3.56226664e-06],\n",
       "       [2.25734930e-04, 2.33127523e-04]])"
      ]
     },
     "execution_count": 101,
     "metadata": {},
     "output_type": "execute_result"
    }
   ],
   "source": [
    "# What are the odds? p(w) / p(not w) = p(w) / (1-p(w))\n",
    "\n",
    "word_odds = word_counts / (company_sums[np.newaxis,:] - word_counts)\n",
    "word_odds[:10,:]"
   ]
  },
  {
   "cell_type": "code",
   "execution_count": 102,
   "id": "automatic-object",
   "metadata": {},
   "outputs": [],
   "source": [
    "# get the *log* frequency of words to use as the x-axis for plots\n",
    "\n",
    "# axis 0 in [row,col] is along rows, axis 1 is along columns\n",
    "# to be clear: sum -> *along* -> columns to get the sum for each row\n",
    "\n",
    "type_frequencies = word_counts.sum(axis=1)\n",
    "log_type_frequencies = np.log(type_frequencies)"
   ]
  },
  {
   "cell_type": "code",
   "execution_count": 103,
   "id": "noticed-insulation",
   "metadata": {},
   "outputs": [],
   "source": [
    "def plot_words(y_value):\n",
    "    y_std = y_value.std()\n",
    "    plt.figure(figsize=(6,18))\n",
    "    plt.scatter(log_type_frequencies, y_value, alpha=0.3)\n",
    "    for i in range(len(vocabulary)):\n",
    "        if np.abs(y_value[i]) > 2 * y_std:\n",
    "            plt.text(log_type_frequencies[i], y_value[i], vocabulary[i])\n",
    "    plt.show()"
   ]
  },
  {
   "cell_type": "code",
   "execution_count": 104,
   "id": "reverse-metropolitan",
   "metadata": {},
   "outputs": [
    {
     "data": {
      "image/png": "[encoded data removed]",
      "text/plain": [
       "<Figure size 432x1296 with 1 Axes>"
      ]
     },
     "metadata": {
      "needs_background": "light"
     },
     "output_type": "display_data"
    }
   ],
   "source": [
    "# the difference in proportion emphasizes high-frequency words\n",
    "# (low-frequency words are always close to 0)\n",
    "\n",
    "plot_words(word_proportions[:,0] - word_proportions[:,1])"
   ]
  },
  {
   "cell_type": "code",
   "execution_count": 105,
   "id": "varying-builder",
   "metadata": {
    "scrolled": false
   },
   "outputs": [
    {
     "data": {
      "image/png": "[encoded data removed]",
      "text/plain": [
       "<Figure size 432x1296 with 1 Axes>"
      ]
     },
     "metadata": {
      "needs_background": "light"
     },
     "output_type": "display_data"
    }
   ],
   "source": [
    "plot_words(word_odds[:,0] - word_odds[:,1])"
   ]
  },
  {
   "cell_type": "code",
   "execution_count": 106,
   "id": "modified-torture",
   "metadata": {},
   "outputs": [
    {
     "data": {
      "text/plain": [
       "array([[1.02410092e-03, 2.59278788e-04],\n",
       "       [5.24197388e-06, 3.39156489e-06],\n",
       "       [1.74731852e-06, 1.93803426e-06],\n",
       "       [1.74731852e-06, 9.69016192e-07],\n",
       "       [1.04840027e-05, 5.32961229e-06],\n",
       "       [2.27156171e-05, 5.57214817e-05],\n",
       "       [2.79578291e-05, 3.10094496e-05],\n",
       "       [6.11564154e-06, 8.23669749e-06],\n",
       "       [5.24197388e-06, 3.87607604e-06],\n",
       "       [2.07099764e-04, 2.22438468e-04]])"
      ]
     },
     "execution_count": 106,
     "metadata": {},
     "output_type": "execute_result"
    }
   ],
   "source": [
    "smoothed_word_counts = word_counts + 1.0\n",
    "smoothed_company_sums = smoothed_word_counts.sum(axis=0)\n",
    "smoothed_word_odds = smoothed_word_counts / (smoothed_company_sums[np.newaxis,:] - smoothed_word_counts)\n",
    "smoothed_word_odds[:10,:]"
   ]
  },
  {
   "cell_type": "code",
   "execution_count": 107,
   "id": "located-option",
   "metadata": {},
   "outputs": [
    {
     "data": {
      "image/png": "[encoded data removed]",
      "text/plain": [
       "<Figure size 432x1296 with 1 Axes>"
      ]
     },
     "metadata": {
      "needs_background": "light"
     },
     "output_type": "display_data"
    }
   ],
   "source": [
    "log_odds_difference = np.log(smoothed_word_odds[:,0] / smoothed_word_odds[:,1])\n",
    "log_odds_variances = 1.0 / smoothed_word_counts[:,0] + 1.0 / smoothed_word_counts[:,1]\n",
    "\n",
    "plot_words(log_odds_difference / np.sqrt(log_odds_variances))"
   ]
  },
  {
   "cell_type": "code",
   "execution_count": 108,
   "id": "liberal-efficiency",
   "metadata": {},
   "outputs": [
    {
     "name": "stdout",
     "output_type": "stream",
     "text": [
      "[most negative]  ’, &, T, AT, service, I, “, ”, customers, call, company, years, union, customer, contract, employees, debt, TV, retirement, 2020, told, services, techs, jobs, network, benefits, center, wireless, leadership, store, us, job, training, managers, retail, payroll, calls, age, strike, year, pay, workers, Tech, numbers, Union, Verizon, retire, lump, content, They, fiber, sum, IBM, pension, dividend, stores, quarter, surplus, org, The, internet, anyone, month, eligible, streaming, offered, craft, ATT, sales, centers, contractors, outsourced, reps, seniority, severance, said, outsourcing, legacy, paying, We, members, 75, location, 401k, Business, every, states, John, tv, areas, 1st, nothing, contracts, 6, Our, media, day, equipment, cable, field\n",
      "...\n",
      "sucks, share, CE, 'll, Austin, shares, Sr., awesome, white, lawyers, Broadcom, Do, please, mortgage, Trump, bay, good, SW, Paul, Please, N, prices, retention, Is, guy, patents, vest, software, HA, server, forum, Why, US, Sr, estate, ass, legal, Staff, rent, design, licensing, housing, $, staff, Steve, Valley, Bay, chips, apple, !, D, VPs, director, SM, f, Samsung, directors, chip, H1Bs, Cool, Intel, n't, QC, #, VP, GTFO, Indians, CA, Chinese, PIP, SD, stock, engineering, package, guys, modem, team, bro, market, --, 's, ..., review, H1B, China, OP, engineer, http, ?, .., Diego, layoff, ;, *, San, HR, engineers, Apple, :, Q  [most positive]\n"
     ]
    }
   ],
   "source": [
    "def sort_words(scores, n=20):\n",
    "    sorted_pairs = sorted(zip(scores, vocabulary))\n",
    "    sorted_words = [w for s,w in sorted_pairs]\n",
    "    print(\"[most negative] \", \", \".join(sorted_words[:n]))\n",
    "    print(\"...\")\n",
    "    print(\", \".join(sorted_words[-n:]), \" [most positive]\")\n",
    "    \n",
    "sort_words(log_odds_difference / np.sqrt(log_odds_variances), 100)"
   ]
  },
  {
   "cell_type": "markdown",
   "id": "limiting-queen",
   "metadata": {},
   "source": [
    "All of this looks roughly as expected. Namely, the main differentiator between the two companies is their names. Some other interesting stuff appears near the edges, though... like \"union\" and \"retirement\" as a strong classifier for AT&T, and \"China\", \"Chinese\", and \"Indians\" appearing on the Qualcom side..."
   ]
  },
  {
   "cell_type": "markdown",
   "id": "fresh-subscriber",
   "metadata": {},
   "source": [
    "## Naive Bayes"
   ]
  },
  {
   "cell_type": "code",
   "execution_count": 109,
   "id": "provincial-bernard",
   "metadata": {},
   "outputs": [],
   "source": [
    "# turn counts into probability with Dirichlet smoothing\n",
    "\n",
    "def log_prob(word, counts, total, smoothing=0.1):\n",
    "    prob = (counts[word] + smoothing) / (total + vocab_size * smoothing)\n",
    "    return np.log( prob ) "
   ]
  },
  {
   "cell_type": "code",
   "execution_count": 114,
   "id": "decimal-remedy",
   "metadata": {},
   "outputs": [],
   "source": [
    "vocab_size = len(vocabulary)\n",
    "vocab_set = set(vocabulary)\n",
    "\n",
    "def compare_tokens(doc, smoothing=1):\n",
    "    total = 0\n",
    "    for token in tokenize_and_clean(doc):\n",
    "        if token in vocab_set:\n",
    "            ds_log_prob = log_prob(token, qualcomm_counter, qc_tokens, smoothing)\n",
    "            stat_log_prob = log_prob(token, atandt_counter, at_tokens, smoothing)\n",
    "            diff = ds_log_prob - stat_log_prob\n",
    "            total += diff\n",
    "            print(f\"{ds_log_prob:.02f}\\t{stat_log_prob:.02f}\\t{diff:.02f}\\t{token}\")\n",
    "        else:\n",
    "            print(\"skipping \", token)\n",
    "    print(total)"
   ]
  },
  {
   "cell_type": "code",
   "execution_count": 115,
   "id": "surface-engagement",
   "metadata": {},
   "outputs": [
    {
     "name": "stdout",
     "output_type": "stream",
     "text": [
      "-5.75\t-9.55\t3.80\tQ\n",
      "-13.26\t-13.85\t0.59\tSUCKS\n",
      "4.388692098235754\n"
     ]
    }
   ],
   "source": [
    "compare_tokens(\"Q SUCKS\")"
   ]
  },
  {
   "cell_type": "code",
   "execution_count": 116,
   "id": "israeli-latest",
   "metadata": {},
   "outputs": [
    {
     "name": "stdout",
     "output_type": "stream",
     "text": [
      "-10.34\t-5.17\t-5.17\tAT\n",
      "-6.85\t-4.92\t-1.93\t&\n",
      "-8.53\t-4.84\t-3.69\tT\n",
      "-13.26\t-13.85\t0.59\tSUCKS\n",
      "-10.199703558001554\n"
     ]
    }
   ],
   "source": [
    "compare_tokens(\"AT&T SUCKS\")"
   ]
  },
  {
   "cell_type": "code",
   "execution_count": 117,
   "id": "played-blues",
   "metadata": {
    "scrolled": true
   },
   "outputs": [
    {
     "name": "stdout",
     "output_type": "stream",
     "text": [
      "-6.75\t-9.09\t2.35\tApple\n",
      "-5.75\t-9.55\t3.80\tQ\n",
      "-11.65\t-12.34\t0.69\tbenefited\n",
      "-9.96\t-10.37\t0.40\trelationship\n",
      "-13.26\t-13.44\t0.18\tArticles\n",
      "-5.64\t-5.65\t0.01\tlike\n",
      "-5.88\t-5.78\t-0.10\tone\n",
      "-7.13\t-7.26\t0.13\tgive\n",
      "-9.72\t-9.99\t0.27\tproof\n",
      "-10.19\t-11.77\t1.58\tdispute\n",
      "-10.95\t-10.73\t-0.22\tpointless\n",
      "-9.58\t-10.00\t0.42\teconomic\n",
      "-8.02\t-8.04\t0.02\tsense\n",
      "-6.75\t-9.09\t2.35\tApple\n",
      "-5.47\t-14.54\t9.07\tQualcomm\n",
      "-11.87\t-12.59\t0.72\tmutually\n",
      "-11.39\t-11.50\t0.11\tbeneficial\n",
      "-9.96\t-10.37\t0.40\trelationship\n",
      "-3.23\t-3.21\t-0.02\t,\n",
      "-8.37\t-8.44\t0.07\tbehind\n",
      "-10.19\t-11.77\t1.58\tdispute\n",
      "-9.67\t-9.21\t-0.46\tlies\n",
      "-10.55\t-10.61\t0.06\tego\n",
      "-3.23\t-3.21\t-0.02\t,\n",
      "-12.00\t-12.06\t0.05\turge\n",
      "-10.45\t-11.83\t1.38\tdominate\n",
      "-3.23\t-3.21\t-0.02\t,\n",
      "-13.26\t-14.54\t1.28\tpolitics…\n",
      "-9.22\t-8.60\t-0.63\tbasically\n",
      "-7.93\t-7.57\t-0.36\teverything\n",
      "-9.58\t-10.00\t0.42\teconomic\n",
      "-8.52\t-8.26\t-0.27\tinterest\n",
      "-6.75\t-7.09\t0.34\tcompanies\n",
      "-2.70\t-2.66\t-0.04\t.\n",
      "-6.75\t-9.09\t2.35\tApple\n",
      "-12.56\t-11.83\t-0.73\tdemanded\n",
      "-9.27\t-9.18\t-0.09\tpayment\n",
      "-8.70\t-8.33\t-0.37\torder\n",
      "-5.47\t-5.31\t-0.16\tget\n",
      "-7.85\t-14.54\t6.69\tQcom\n",
      "-8.19\t-11.90\t3.72\tchips\n",
      "-9.25\t-10.10\t0.85\tiPhone\n",
      "-2.70\t-2.66\t-0.04\t.\n",
      "-9.08\t-8.92\t-0.16\tEvery\n",
      "-8.95\t-8.65\t-0.30\tarticle\n",
      "-7.22\t-6.78\t-0.45\tsaid\n",
      "-2.70\t-2.66\t-0.04\t.\n",
      "-8.81\t-8.73\t-0.08\tHere\n",
      "-4.86\t-5.12\t0.26\t's\n",
      "-8.00\t-8.32\t0.31\tshort\n",
      "-8.95\t-8.65\t-0.30\tarticle\n",
      "-5.41\t-6.13\t0.71\t:\n",
      "-7.44\t-7.37\t-0.07\thttps\n",
      "-5.41\t-6.13\t0.71\t:\n",
      "-13.26\t-14.54\t1.28\t//www.reuters.com/article/apple-qualcomm-mollenkopf/apple-demanded-1-billion-from-qualcomm-for-chance-to-win-iphone-idUSKCN1P600V\n",
      "-6.42\t-6.55\t0.13\tWhat\n",
      "-4.86\t-5.12\t0.26\t's\n",
      "-7.99\t-7.96\t-0.03\twrong\n",
      "-7.39\t-7.50\t0.12\tdeal\n",
      "-4.29\t-4.54\t0.25\t?\n",
      "-4.15\t-3.90\t-0.25\tI\n",
      "-4.88\t-5.09\t0.21\tn't\n",
      "-6.10\t-5.89\t-0.21\tknow\n",
      "-7.39\t-7.31\t-0.08\telse\n",
      "-6.96\t-6.78\t-0.19\tsay\n",
      "-2.70\t-2.66\t-0.04\t.\n",
      "-9.78\t-10.59\t0.81\tLets\n",
      "-11.55\t-11.14\t-0.41\tcrystal\n",
      "-8.57\t-8.47\t-0.09\tclear\n",
      "-2.70\t-2.66\t-0.04\t.\n",
      "-5.54\t-5.32\t-0.21\tThe\n",
      "-9.16\t-12.46\t3.30\tFTC\n",
      "-10.69\t-11.40\t0.71\tsuing\n",
      "-5.47\t-14.54\t9.07\tQualcomm\n",
      "-8.61\t-8.36\t-0.25\tbillion\n",
      "-8.87\t-8.74\t-0.13\tdollar\n",
      "-9.27\t-9.18\t-0.09\tpayment\n",
      "-8.58\t-8.50\t-0.08\tplus\n",
      "-6.88\t-6.60\t-0.29\tbusiness\n",
      "-8.93\t-9.82\t0.89\tpractice\n",
      "-9.16\t-12.46\t3.30\tFTC\n",
      "-9.81\t-10.00\t0.19\tclaims\n",
      "-9.26\t-9.61\t0.35\tillegal\n",
      "-2.70\t-2.66\t-0.04\t.\n",
      "-5.47\t-14.54\t9.07\tQualcomm\n",
      "-10.34\t-10.24\t-0.10\tbroke\n",
      "-8.40\t-9.00\t0.60\tlaw\n",
      "-3.23\t-3.21\t-0.02\t,\n",
      "-5.88\t-5.78\t-0.10\tone\n",
      "-9.02\t-8.29\t-0.72\tforced\n",
      "-5.47\t-14.54\t9.07\tQualcomm\n",
      "-8.75\t-8.91\t0.15\tbreak\n",
      "-8.40\t-9.00\t0.60\tlaw\n",
      "-3.23\t-3.21\t-0.02\t,\n",
      "-5.47\t-14.54\t9.07\tQualcomm\n",
      "-8.84\t-8.48\t-0.37\tknew\n",
      "-9.26\t-9.61\t0.35\tillegal\n",
      "-3.23\t-3.21\t-0.02\t,\n",
      "-11.39\t-10.71\t-0.67\tdocumented\n",
      "-7.88\t-7.61\t-0.28\temail\n",
      "-11.39\t-13.44\t2.06\ttestimony\n",
      "-3.23\t-3.21\t-0.02\t,\n",
      "-9.09\t-8.65\t-0.44\tzero\n",
      "-12.56\t-13.44\t0.88\twiggle\n",
      "-8.90\t-9.10\t0.20\troom\n",
      "-2.70\t-2.66\t-0.04\t.\n",
      "-8.27\t-8.56\t0.29\tDid\n",
      "-6.75\t-9.09\t2.35\tApple\n",
      "-8.75\t-8.91\t0.15\tbreak\n",
      "-8.40\t-9.00\t0.60\tlaw\n",
      "-4.29\t-4.54\t0.25\t?\n",
      "-7.94\t-8.08\t0.14\tMaybe\n",
      "-3.23\t-3.21\t-0.02\t,\n",
      "-5.75\t-5.63\t-0.12\twould\n",
      "-7.86\t-7.46\t-0.40\tdifferent\n",
      "-8.67\t-9.40\t0.74\tlawsuit\n",
      "-2.70\t-2.66\t-0.04\t.\n",
      "-7.88\t-8.11\t0.23\tWho\n",
      "-8.01\t-7.90\t-0.11\tknows\n",
      "-3.23\t-3.21\t-0.02\t,\n",
      "-7.85\t-7.82\t-0.03\tmaybe\n",
      "-5.47\t-14.54\t9.07\tQualcomm\n",
      "-9.15\t-9.74\t0.58\tsue\n",
      "-6.75\t-9.09\t2.35\tApple\n",
      "-9.02\t-8.29\t-0.72\tforced\n",
      "-8.75\t-8.91\t0.15\tbreak\n",
      "-8.40\t-9.00\t0.60\tlaw\n",
      "-3.23\t-3.21\t-0.02\t,\n",
      "-4.15\t-3.90\t-0.25\tI\n",
      "-8.81\t-8.56\t-0.25\tdoubt\n",
      "-5.75\t-5.63\t-0.12\twould\n",
      "-9.73\t-10.43\t0.70\tfly\n",
      "-2.70\t-2.66\t-0.04\t.\n",
      "-7.94\t-8.08\t0.14\tMaybe\n",
      "-10.40\t-10.46\t0.07\tbreaking\n",
      "-12.16\t-12.06\t-0.10\tNDA\n",
      "-10.73\t-10.88\t0.14\tdisclose\n",
      "-3.23\t-3.21\t-0.02\t,\n",
      "-6.75\t-9.09\t2.35\tApple\n",
      "-6.95\t-6.86\t-0.08\tsure\n",
      "-8.73\t-8.85\t0.12\thell\n",
      "-11.24\t-11.77\t0.53\tdisclosed\n",
      "-2.70\t-2.66\t-0.04\t.\n",
      "-9.23\t-9.08\t-0.15\tBig\n",
      "-9.86\t-9.93\t0.08\tboys\n",
      "-7.41\t-7.15\t-0.26\tmade\n",
      "-6.88\t-6.60\t-0.29\tbusiness\n",
      "-8.93\t-8.24\t-0.70\tdecisions\n",
      "-2.70\t-2.66\t-0.04\t.\n",
      "-8.08\t-8.07\t-0.01\tSome\n",
      "-8.93\t-8.24\t-0.70\tdecisions\n",
      "-8.16\t-8.12\t-0.04\tbecome\n",
      "-7.55\t-7.35\t-0.20\tpart\n",
      "-8.67\t-9.40\t0.74\tlawsuit\n",
      "-3.23\t-3.21\t-0.02\t,\n",
      "-11.24\t-10.93\t-0.31\tbacked\n",
      "-12.34\t-11.32\t-1.02\tfactual\n",
      "-9.50\t-10.34\t0.84\tevidence\n",
      "-11.39\t-13.44\t2.06\ttestimony\n",
      "-2.70\t-2.66\t-0.04\t.\n",
      "-7.81\t-8.33\t0.52\tLet\n",
      "-4.86\t-5.12\t0.26\t's\n",
      "-8.57\t-8.47\t-0.09\tclear\n",
      "-5.41\t-6.13\t0.71\t:\n",
      "-6.75\t-9.09\t2.35\tApple\n",
      "-3.23\t-3.21\t-0.02\t,\n",
      "-7.85\t-14.54\t6.69\tQcom\n",
      "-3.23\t-3.21\t-0.02\t,\n",
      "-8.28\t-8.32\t0.04\tasked\n",
      "-5.70\t-5.98\t0.28\t$\n",
      "-7.23\t-7.22\t-0.01\t1\n",
      "-12.85\t-14.54\t1.69\tbln\n",
      "-8.70\t-8.33\t-0.37\torder\n",
      "-9.50\t-12.34\t2.85\tmodems\n",
      "-9.25\t-10.10\t0.85\tiPhone\n",
      "-2.70\t-2.66\t-0.04\t.\n",
      "-6.39\t-6.34\t-0.06\tThis\n",
      "-7.21\t-7.46\t0.25\tcost\n",
      "-3.23\t-3.21\t-0.02\t,\n",
      "-10.73\t-10.67\t-0.06\tclaimed\n",
      "-3.23\t-3.21\t-0.02\t,\n",
      "-8.37\t-8.06\t-0.32\tneeded\n",
      "-12.16\t-11.17\t-0.99\tswap\n",
      "-12.34\t-14.54\t2.20\tInfineon\n",
      "-8.19\t-11.90\t3.72\tchips\n",
      "-2.70\t-2.66\t-0.04\t.\n",
      "-7.85\t-14.54\t6.69\tQcom\n",
      "-8.70\t-8.25\t-0.45\twanted\n",
      "-12.16\t-12.75\t0.59\texclusivity\n",
      "-10.29\t-10.32\t0.03\texchange\n",
      "-9.27\t-9.18\t-0.09\tpayment\n",
      "-10.95\t-10.83\t-0.13\tthrew\n",
      "-8.80\t-8.83\t0.03\tcheaper\n",
      "-7.86\t-11.04\t3.18\tmodem\n",
      "-7.25\t-7.73\t0.48\tprice\n",
      "-2.70\t-2.66\t-0.04\t.\n",
      "-8.12\t-7.94\t-0.19\t100\n",
      "-6.07\t-6.17\t0.10\t%\n",
      "-10.34\t-10.21\t-0.13\tarticles\n",
      "-9.01\t-8.90\t-0.11\tmentioned\n",
      "-9.27\t-9.18\t-0.09\tpayment\n",
      "-6.75\t-9.09\t2.35\tApple\n",
      "-8.28\t-8.32\t0.04\tasked\n",
      "-7.85\t-14.54\t6.69\tQcom\n",
      "-2.70\t-2.66\t-0.04\t.\n",
      "-6.75\t-9.09\t2.35\tApple\n",
      "-7.22\t-6.78\t-0.45\tsaid\n",
      "-12.56\t-14.54\t1.98\t'they\n",
      "-8.86\t-8.91\t0.06\tchoice\n",
      "-7.30\t-7.78\t0.47\t'\n",
      "-6.15\t-6.08\t-0.08\tgo\n",
      "-7.85\t-14.54\t6.69\tQcom\n",
      "-7.86\t-11.04\t3.18\tmodem\n",
      "-6.24\t-6.41\t0.17\tmuch\n",
      "-8.80\t-8.83\t0.03\tcheaper\n",
      "-2.70\t-2.66\t-0.04\t.\n",
      "-6.84\t-6.96\t0.12\tBut\n",
      "-8.08\t-7.96\t-0.12\tcourse\n",
      "-8.86\t-8.91\t0.06\tchoice\n",
      "-2.70\t-2.66\t-0.04\t.\n",
      "-6.75\t-9.09\t2.35\tApple\n",
      "-7.77\t-7.81\t0.04\tfree\n",
      "-11.01\t-11.98\t0.97\tdual\n",
      "-9.05\t-9.28\t0.23\tsource\n",
      "-3.23\t-3.21\t-0.02\t,\n",
      "-9.03\t-9.03\t0.00\tdecided\n",
      "-6.15\t-6.08\t-0.08\tgo\n",
      "-7.85\t-14.54\t6.69\tQcom\n",
      "-8.80\t-8.83\t0.03\tcheaper\n",
      "-10.77\t-11.90\t1.13\tcomponent\n",
      "-2.70\t-2.66\t-0.04\t.\n",
      "-6.72\t-6.76\t0.04\tNo\n",
      "-5.88\t-5.78\t-0.10\tone\n",
      "-8.88\t-9.69\t0.81\tfood\n",
      "-8.80\t-8.56\t-0.24\ttaken\n",
      "-11.39\t-10.53\t-0.85\tmouths\n",
      "-2.70\t-2.66\t-0.04\t.\n",
      "-6.39\t-6.34\t-0.06\tThis\n",
      "-9.15\t-9.17\t0.02\tnormal\n",
      "-6.88\t-6.60\t-0.29\tbusiness\n",
      "-7.39\t-7.50\t0.12\tdeal\n",
      "-3.23\t-3.21\t-0.02\t,\n",
      "-7.10\t-12.46\t5.36\tIntel\n",
      "-8.17\t-7.79\t-0.38\tlost\n",
      "-2.70\t-2.66\t-0.04\t.\n",
      "-8.13\t-8.52\t0.39\tEven\n",
      "-7.68\t-7.43\t-0.25\tbelieve\n",
      "-7.85\t-14.54\t6.69\tQcom\n",
      "-7.58\t-7.19\t-0.39\tpaid\n",
      "-11.65\t-10.71\t-0.94\tbribe\n",
      "-3.23\t-3.21\t-0.02\t,\n",
      "-9.93\t-10.35\t0.43\tparties\n",
      "-5.75\t-5.63\t-0.12\twould\n",
      "-9.52\t-9.25\t-0.27\tfault\n",
      "-2.70\t-2.66\t-0.04\t.\n",
      "-13.26\t-14.54\t1.28\t-1xwq\n",
      "-3.23\t-3.21\t-0.02\t,\n",
      "-5.54\t-5.32\t-0.21\tThe\n",
      "-9.06\t-9.09\t0.03\tclaim\n",
      "-3.23\t-3.21\t-0.02\t,\n",
      "-6.53\t-6.41\t-0.12\tway\n",
      "-8.35\t-8.26\t-0.08\tlarge\n",
      "-5.47\t-14.54\t9.07\tQualcomm\n",
      "-9.27\t-9.18\t-0.09\tpayment\n",
      "-3.23\t-3.21\t-0.02\t,\n",
      "-13.26\t-13.85\t0.59\tpersuaded\n",
      "-6.75\t-9.09\t2.35\tApple\n",
      "-7.32\t-7.62\t0.30\tbuy\n",
      "-7.73\t-7.73\t0.00\tothers\n",
      "-2.70\t-2.66\t-0.04\t.\n",
      "-6.68\t-6.65\t-0.03\tThat\n",
      "-4.86\t-5.12\t0.26\t's\n",
      "-7.08\t-6.94\t-0.13\tthing\n",
      "-8.08\t-7.68\t-0.40\ttaking\n",
      "-8.88\t-9.69\t0.81\tfood\n",
      "-7.10\t-12.46\t5.36\tIntel\n",
      "-7.73\t-7.73\t0.00\tothers\n",
      "-11.39\t-10.53\t-0.85\tmouths\n",
      "-2.70\t-2.66\t-0.04\t.\n",
      "-9.12\t-9.11\t-0.01\tSeems\n",
      "-11.18\t-12.34\t1.16\tproblematic\n",
      "-3.23\t-3.21\t-0.02\t,\n",
      "-4.88\t-5.09\t0.21\tn't\n",
      "-4.29\t-4.54\t0.25\t?\n",
      "-6.84\t-6.96\t0.12\tBut\n",
      "-5.47\t-14.54\t9.07\tQualcomm\n",
      "-7.58\t-7.19\t-0.39\tpaid\n",
      "-8.61\t-8.36\t-0.25\tbillion\n",
      "-8.87\t-8.58\t-0.29\tdollars\n",
      "-12.34\t-12.93\t0.59\tillegally\n",
      "-10.37\t-10.37\t-0.00\tlock\n",
      "-10.12\t-10.06\t-0.06\tcompetitor\n",
      "-8.58\t-8.74\t0.16\tperiod\n",
      "-5.92\t-5.81\t-0.11\ttime\n",
      "-2.70\t-2.66\t-0.04\t.\n",
      "-6.56\t-6.67\t0.11\tAnd\n",
      "-5.47\t-14.54\t9.07\tQualcomm\n",
      "-10.00\t-9.95\t-0.05\tcontinued\n",
      "-11.01\t-11.21\t0.20\tanti\n",
      "-11.01\t-11.98\t0.97\tdual\n",
      "-9.05\t-9.28\t0.23\tsource\n",
      "-6.88\t-6.60\t-0.29\tbusiness\n",
      "-9.15\t-9.52\t0.38\tpractices\n",
      "-2.70\t-2.66\t-0.04\t.\n",
      "-5.54\t-5.32\t-0.21\tThe\n",
      "-9.16\t-12.46\t3.30\tFTC\n",
      "-9.43\t-9.10\t-0.33\tvs\n",
      "-5.47\t-14.54\t9.07\tQualcomm\n",
      "-5.56\t-5.69\t0.13\t(\n",
      "-6.75\t-9.09\t2.35\tApple\n",
      "-5.46\t-5.63\t0.17\t)\n",
      "-2.70\t-2.66\t-0.04\t.\n",
      "233.26639869189893\n"
     ]
    }
   ],
   "source": [
    "compare_tokens(qualcomm_posts[1])"
   ]
  },
  {
   "cell_type": "code",
   "execution_count": 118,
   "id": "spread-flower",
   "metadata": {
    "scrolled": true
   },
   "outputs": [
    {
     "name": "stdout",
     "output_type": "stream",
     "text": [
      "-8.27\t-8.56\t0.29\tDid\n",
      "-11.87\t-10.48\t-1.39\tmarketplace\n",
      "-6.39\t-6.47\t0.08\tneed\n",
      "-7.06\t-6.73\t-0.33\tanother\n",
      "-11.18\t-8.84\t-2.34\tNetflix\n",
      "-4.29\t-4.54\t0.25\t?\n",
      "-13.95\t-10.67\t-3.28\tContent\n",
      "-9.57\t-10.96\t1.39\tcommodity\n",
      "-12.85\t-12.75\t-0.10\tplethora\n",
      "-2.70\t-2.66\t-0.04\t.\n",
      "-7.00\t-7.25\t0.26\tHow\n",
      "-6.33\t-6.25\t-0.07\tmany\n",
      "-9.37\t-8.70\t-0.66\tshows\n",
      "-9.78\t-10.01\t0.23\tjunk\n",
      "-11.47\t-10.07\t-1.39\tmovies\n",
      "-4.29\t-4.54\t0.25\t?\n",
      "-7.52\t-7.43\t-0.09\tWhen\n",
      "-6.83\t-6.56\t-0.27\tlast\n",
      "-5.92\t-5.81\t-0.11\ttime\n",
      "-8.74\t-8.60\t-0.14\tsaw\n",
      "-8.39\t-8.72\t0.34\tquality\n",
      "-11.12\t-11.04\t-0.07\tmotion\n",
      "-9.89\t-9.75\t-0.14\tpicture\n",
      "-10.08\t-9.93\t-0.15\treleased\n",
      "-4.29\t-4.54\t0.25\t?\n",
      "-13.95\t-10.67\t-3.28\tContent\n",
      "-8.88\t-8.34\t-0.54\tnon\n",
      "-8.05\t-7.86\t-0.19\tstop\n",
      "-11.87\t-11.90\t0.03\tvomit\n",
      "-7.39\t-7.25\t-0.14\tcoming\n",
      "-7.25\t-6.92\t-0.33\tdays\n",
      "-13.26\t-12.34\t-0.91\tangles\n",
      "-2.70\t-2.66\t-0.04\t.\n",
      "-8.62\t-9.00\t0.38\tGreat\n",
      "-6.88\t-6.60\t-0.29\tbusiness\n",
      "-8.98\t-9.39\t0.41\tjump\n",
      "-2.70\t-2.66\t-0.04\t.\n",
      "-11.18\t-8.84\t-2.34\tNetflix\n",
      "-9.34\t-8.92\t-0.42\tputting\n",
      "-13.95\t-13.85\t-0.10\tcr_p\n",
      "-6.83\t-6.56\t-0.27\tlast\n",
      "-6.87\t-6.88\t0.01\t2\n",
      "-6.31\t-5.74\t-0.57\tyears\n",
      "-4.65\t-4.82\t0.17\t!\n",
      "-13.95\t-9.10\t-4.85\tStinky\n",
      "-4.86\t-5.12\t0.26\t's\n",
      "-9.91\t-9.03\t-0.88\toffering\n",
      "-11.18\t-8.84\t-2.34\tNetflix\n",
      "-2.70\t-2.66\t-0.04\t.\n",
      "-8.81\t-8.73\t-0.08\tHere\n",
      "-4.86\t-5.12\t0.26\t's\n",
      "-12.16\t-12.34\t0.18\tsneak\n",
      "-13.26\t-12.59\t-0.66\tpeek\n",
      "-7.51\t-7.59\t0.08\tfuture\n",
      "-5.33\t-5.69\t0.35\t...\n",
      "-12.85\t-11.60\t-1.26\t2024\n",
      "-6.10\t-6.10\t-0.00\t-\n",
      "-10.34\t-5.17\t-5.17\tAT\n",
      "-6.85\t-4.92\t-1.93\t&\n",
      "-8.53\t-4.84\t-3.69\tT\n",
      "-13.95\t-12.46\t-1.49\tInteractive\n",
      "-11.75\t-12.24\t0.48\tDivision\n",
      "-10.04\t-10.12\t0.08\tbuys\n",
      "-12.34\t-12.93\t0.59\tEA\n",
      "-5.56\t-5.69\t0.13\t(\n",
      "-5.54\t-5.32\t-0.21\tThe\n",
      "-13.95\t-13.85\t-0.10\tvideogame\n",
      "-10.86\t-11.17\t0.31\tmaker\n",
      "-5.46\t-5.63\t0.17\t)\n",
      "-5.70\t-5.98\t0.28\t$\n",
      "-8.95\t-8.99\t0.04\t80\n",
      "-10.77\t-9.75\t-1.02\tBillion\n",
      "-2.70\t-2.66\t-0.04\t.\n",
      "-13.95\t-7.71\t-6.24\tStankey\n",
      "-13.26\t-12.14\t-1.12\tdeclares\n",
      "-4.86\t-5.12\t0.26\t's\n",
      "-6.58\t-6.51\t-0.07\tmoney\n",
      "-13.95\t-13.85\t-0.10\tultra-competitive\n",
      "-11.39\t-8.11\t-3.28\tstreaming\n",
      "-11.24\t-11.45\t0.21\twars\n",
      "-3.23\t-3.21\t-0.02\t,\n",
      "-10.34\t-5.17\t-5.17\tAT\n",
      "-6.85\t-4.92\t-1.93\t&\n",
      "-8.53\t-4.84\t-3.69\tT\n",
      "-6.21\t-6.03\t-0.19\tgoing\n",
      "-7.37\t-7.47\t0.10\tstart\n",
      "-11.65\t-11.77\t0.12\tbundling\n",
      "-10.52\t-10.05\t-0.47\tHome\n",
      "-9.82\t-9.37\t-0.45\tInternet\n",
      "-9.10\t-10.50\t1.40\tLTE\n",
      "-11.06\t-9.09\t-1.97\tWireless\n",
      "-13.95\t-13.85\t-0.10\tvideogames\n",
      "-5.33\t-5.69\t0.35\t...\n",
      "-10.86\t-11.98\t1.12\tpredicting\n",
      "-5.70\t-5.98\t0.28\t$\n",
      "-7.56\t-7.49\t-0.07\t5\n",
      "-9.91\t-8.85\t-1.06\tdiscount\n",
      "-7.26\t-6.84\t-0.42\tevery\n",
      "-12.34\t-12.93\t0.59\tEA\n",
      "-8.29\t-8.27\t-0.02\ttitle\n",
      "-10.34\t-5.17\t-5.17\tAT\n",
      "-6.85\t-4.92\t-1.93\t&\n",
      "-8.53\t-4.84\t-3.69\tT\n",
      "-9.79\t-7.66\t-2.13\tservices\n",
      "-6.21\t-6.03\t-0.19\tgoing\n",
      "-8.61\t-8.42\t-0.19\tincrease\n",
      "-13.95\t-11.71\t-2.24\tARPU\n",
      "-7.56\t-7.49\t-0.07\tetc\n",
      "-2.70\t-2.66\t-0.04\t.\n",
      "-7.56\t-7.49\t-0.07\tetc\n",
      "-2.70\t-2.66\t-0.04\t.\n",
      "-7.82\t-7.55\t-0.27\t20\n",
      "-6.07\t-6.17\t0.10\t%\n",
      "-6.77\t-6.82\t0.05\t're\n",
      "-6.21\t-6.03\t-0.19\tgoing\n",
      "-13.95\t-13.85\t-0.10\tCRUSHMEGADESTROY\n",
      "-4.65\t-4.82\t0.17\t!\n",
      "-4.65\t-4.82\t0.17\t!\n",
      "-4.65\t-4.82\t0.17\t!\n",
      "-8.83\t-9.06\t0.23\tcompetition\n",
      "-2.70\t-2.66\t-0.04\t.\n",
      "-11.18\t-8.84\t-2.34\tNetflix\n",
      "-10.08\t-9.80\t-0.28\tputs\n",
      "-13.95\t-11.83\t-2.12\thbomax\n",
      "-9.72\t-9.66\t-0.05\tshame\n",
      "-7.19\t-7.35\t0.16\tAll\n",
      "-4.15\t-3.90\t-0.25\tI\n",
      "-6.10\t-5.89\t-0.21\tknow\n",
      "-4.15\t-3.90\t-0.25\tI\n",
      "-8.70\t-8.25\t-0.45\twanted\n",
      "-8.91\t-8.31\t-0.61\twatch\n",
      "-13.26\t-11.36\t-1.90\treruns\n",
      "-12.16\t-10.21\t-1.95\tFriends\n",
      "-3.23\t-3.21\t-0.02\t,\n",
      "-4.15\t-3.90\t-0.25\tI\n",
      "-4.88\t-5.09\t0.21\tn't\n",
      "-3.23\t-3.21\t-0.02\t,\n",
      "-10.95\t-11.71\t0.75\tlocally\n",
      "-11.87\t-11.04\t-0.83\tbroadcast\n",
      "-13.26\t-11.77\t-1.49\tOTA\n",
      "-8.97\t-9.29\t0.33\tnight\n",
      "-13.95\t-13.15\t-0.80\tsyndication\n",
      "-4.15\t-3.90\t-0.25\tI\n",
      "-5.47\t-5.31\t-0.16\tget\n",
      "-7.77\t-7.81\t0.04\tfree\n",
      "-2.70\t-2.66\t-0.04\t.\n",
      "-6.15\t-6.37\t0.23\t@\n",
      "-5.70\t-5.98\t0.28\t$\n",
      "-8.03\t-8.08\t0.05\t15\n",
      "-7.97\t-7.30\t-0.67\tmonth\n",
      "-6.58\t-6.51\t-0.07\tmoney\n",
      "-6.99\t-7.27\t0.29\tbest\n",
      "-10.08\t-9.73\t-0.35\tinvested\n",
      "-13.26\t-11.77\t-1.49\tOTA\n",
      "-12.85\t-10.69\t-2.16\tDVR\n",
      "-2.70\t-2.66\t-0.04\t.\n",
      "-8.47\t-8.41\t-0.06\tLOL\n",
      "-4.65\t-4.82\t0.17\t!\n",
      "-90.2796908413787\n"
     ]
    }
   ],
   "source": [
    "compare_tokens(atandt_posts[1])"
   ]
  },
  {
   "cell_type": "markdown",
   "id": "configured-nashville",
   "metadata": {},
   "source": [
    "From this it looks like the two companies can be differentiated because Qualcomm is a bit more tech-product focussed, while AT&T is more service focussed. That's why words like netflix, marketplace, movies and content lean towards AT&T while words like apply, chips, Infineon, and model lean towards Qualcomm. It also looks like Qualcomm is involved in a legal dispute, although it's interesting that these words (eg. lawsuit) are not particularly pulled towards Qualcomm and appear in both corpuses. "
   ]
  },
  {
   "cell_type": "markdown",
   "id": "prepared-validation",
   "metadata": {},
   "source": [
    "## As a classifier"
   ]
  },
  {
   "cell_type": "code",
   "execution_count": null,
   "id": "bearing-racing",
   "metadata": {},
   "outputs": [],
   "source": []
  }
 ],
 "metadata": {
  "kernelspec": {
   "display_name": "Python 3",
   "language": "python",
   "name": "python3"
  },
  "language_info": {
   "codemirror_mode": {
    "name": "ipython",
    "version": 3
   },
   "file_extension": ".py",
   "mimetype": "text/x-python",
   "name": "python",
   "nbconvert_exporter": "python",
   "pygments_lexer": "ipython3",
   "version": "3.8.6"
  }
 },
 "nbformat": 4,
 "nbformat_minor": 5
}
