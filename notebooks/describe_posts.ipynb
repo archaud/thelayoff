{
 "cells": [
  {
   "cell_type": "code",
   "execution_count": 8,
   "id": "waiting-profit",
   "metadata": {},
   "outputs": [],
   "source": [
    "import os\n",
    "import csv\n",
    "\n",
    "from tqdm import tqdm\n",
    "\n",
    "import numpy as np\n",
    "import matplotlib.pyplot as plt"
   ]
  },
  {
   "cell_type": "code",
   "execution_count": 3,
   "id": "italian-reduction",
   "metadata": {},
   "outputs": [
    {
     "data": {
      "text/plain": [
       "'/home/jovyan/work/github/thelayoff/notebooks'"
      ]
     },
     "execution_count": 3,
     "metadata": {},
     "output_type": "execute_result"
    }
   ],
   "source": [
    "os.getcwd()"
   ]
  },
  {
   "cell_type": "code",
   "execution_count": 6,
   "id": "photographic-leisure",
   "metadata": {},
   "outputs": [],
   "source": [
    "data_dir = \"/home/jovyan/work/Dropbox/thelayoff\"\n",
    "input_file = os.path.join(data_dir, \"all_posts.txt\")"
   ]
  },
  {
   "cell_type": "code",
   "execution_count": 82,
   "id": "generous-adelaide",
   "metadata": {
    "scrolled": true
   },
   "outputs": [
    {
     "name": "stderr",
     "output_type": "stream",
     "text": [
      "250837it [00:14, 17222.50it/s]\n"
     ]
    }
   ],
   "source": [
    "total_posts = 0\n",
    "total_replies = 0\n",
    "company_posts = Counter()\n",
    "company_words = Counter()\n",
    "\n",
    "with open(input_file) as file:\n",
    "    rd = csv.reader(file, delimiter = \"\\t\", quotechar = '\"')\n",
    "    for row in tqdm(rd):\n",
    "        \n",
    "        text = row[4]\n",
    "        tokens = text.split(\" \")\n",
    "        n_tokens = len(tokens)\n",
    "        \n",
    "        company = row[1]\n",
    "        \n",
    "        try:\n",
    "            n_replies = int(row[3])\n",
    "        except:\n",
    "            n_replies = 0\n",
    "        \n",
    "        # update counters\n",
    "        total_posts += 1\n",
    "        total_replies += n_replies\n",
    "        company_posts.update(company.split())\n",
    "        company_words[company] += n_tokens"
   ]
  },
  {
   "cell_type": "code",
   "execution_count": 83,
   "id": "alone-collins",
   "metadata": {
    "scrolled": true
   },
   "outputs": [
    {
     "data": {
      "text/plain": [
       "[('https://www.thelayoff.com/corinthian-colleges', 9206),\n",
       " ('https://www.thelayoff.com/at-and-t', 8712),\n",
       " ('https://www.thelayoff.com/qualcomm', 8599),\n",
       " ('https://www.thelayoff.com/intel', 7674),\n",
       " ('https://www.thelayoff.com/university-phoenix', 6646),\n",
       " ('https://www.thelayoff.com/verizon-communications', 5845),\n",
       " ('https://www.thelayoff.com/baker-hughes', 4992),\n",
       " ('https://www.thelayoff.com/chesapeake-energy', 4975),\n",
       " ('https://www.thelayoff.com/sears-holdings', 4637),\n",
       " ('https://www.thelayoff.com/sams-club', 4230)]"
      ]
     },
     "execution_count": 83,
     "metadata": {},
     "output_type": "execute_result"
    }
   ],
   "source": [
    "company_posts.most_common(10)"
   ]
  },
  {
   "cell_type": "code",
   "execution_count": 84,
   "id": "orange-compiler",
   "metadata": {},
   "outputs": [
    {
     "data": {
      "text/plain": [
       "[('https://www.thelayoff.com/at-and-t', 2690462),\n",
       " ('https://www.thelayoff.com/chevron', 1684027),\n",
       " ('https://www.thelayoff.com/intel', 1612527),\n",
       " ('https://www.thelayoff.com/verizon-communications', 1596111),\n",
       " ('https://www.thelayoff.com/corinthian-colleges', 1398768),\n",
       " ('https://www.thelayoff.com/qualcomm', 1378728),\n",
       " ('https://www.thelayoff.com/sams-club', 1182336),\n",
       " ('https://www.thelayoff.com/sears-holdings', 1140477),\n",
       " ('https://www.thelayoff.com/honeywell-international', 984544),\n",
       " ('https://www.thelayoff.com/wells-fargo-and', 942625)]"
      ]
     },
     "execution_count": 84,
     "metadata": {},
     "output_type": "execute_result"
    }
   ],
   "source": [
    "company_words.most_common(10)"
   ]
  },
  {
   "cell_type": "code",
   "execution_count": 62,
   "id": "allied-lecture",
   "metadata": {
    "scrolled": true
   },
   "outputs": [
    {
     "data": {
      "image/png": "[encoded data removed]",
      "text/plain": [
       "<Figure size 432x288 with 1 Axes>"
      ]
     },
     "metadata": {
      "needs_background": "light"
     },
     "output_type": "display_data"
    }
   ],
   "source": [
    "labels, values = zip(*company_posts.most_common(200))\n",
    "indexes = np.arange(len(labels))\n",
    "width = 1\n",
    "\n",
    "plt.bar(indexes, values, width)\n",
    "plt.show()"
   ]
  },
  {
   "cell_type": "code",
   "execution_count": 88,
   "id": "thousand-coating",
   "metadata": {},
   "outputs": [
    {
     "data": {
      "text/plain": [
       "981"
      ]
     },
     "execution_count": 88,
     "metadata": {},
     "output_type": "execute_result"
    }
   ],
   "source": [
    "n_10_or_more = 0\n",
    "for count in company_posts.values():\n",
    "    if count > 10:\n",
    "        n_10_or_more += 1\n",
    "n_10_or_more"
   ]
  },
  {
   "cell_type": "code",
   "execution_count": 87,
   "id": "caroline-interest",
   "metadata": {},
   "outputs": [
    {
     "data": {
      "image/png": "[encoded data removed]",
      "text/plain": [
       "<Figure size 432x288 with 1 Axes>"
      ]
     },
     "metadata": {
      "needs_background": "light"
     },
     "output_type": "display_data"
    }
   ],
   "source": [
    "labels, values = zip(*company_words.most_common(200))\n",
    "indexes = np.arange(len(labels))\n",
    "width = 1\n",
    "\n",
    "plt.bar(indexes, values, width)\n",
    "plt.show()"
   ]
  },
  {
   "cell_type": "code",
   "execution_count": 93,
   "id": "exposed-activity",
   "metadata": {},
   "outputs": [
    {
     "data": {
      "text/plain": [
       "2417"
      ]
     },
     "execution_count": 93,
     "metadata": {},
     "output_type": "execute_result"
    }
   ],
   "source": [
    "n_100_or_more = 0\n",
    "for count in company_words.values():\n",
    "    if count > 100:\n",
    "        n_100_or_more += 1\n",
    "n_100_or_more"
   ]
  }
 ],
 "metadata": {
  "kernelspec": {
   "display_name": "Python 3",
   "language": "python",
   "name": "python3"
  },
  "language_info": {
   "codemirror_mode": {
    "name": "ipython",
    "version": 3
   },
   "file_extension": ".py",
   "mimetype": "text/x-python",
   "name": "python",
   "nbconvert_exporter": "python",
   "pygments_lexer": "ipython3",
   "version": "3.8.6"
  }
 },
 "nbformat": 4,
 "nbformat_minor": 5
}
