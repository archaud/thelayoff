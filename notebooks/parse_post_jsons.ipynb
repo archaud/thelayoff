{
 "cells": [
  {
   "cell_type": "code",
   "execution_count": 1,
   "id": "governing-bailey",
   "metadata": {},
   "outputs": [],
   "source": [
    "import os\n",
    "import json\n",
    "import sys\n"
   ]
  },
  {
   "cell_type": "code",
   "execution_count": 2,
   "id": "religious-forth",
   "metadata": {
    "scrolled": true
   },
   "outputs": [
    {
     "data": {
      "text/plain": [
       "'/Users/aridf/github/thelayoff/notebooks'"
      ]
     },
     "execution_count": 2,
     "metadata": {},
     "output_type": "execute_result"
    }
   ],
   "source": [
    "os.getcwd()"
   ]
  },
  {
   "cell_type": "code",
   "execution_count": 3,
   "id": "aging-consolidation",
   "metadata": {},
   "outputs": [],
   "source": [
    "data_dir = \"/Users/aridf/Dropbox/thelayoff\"\n",
    "raw_data_dir = os.path.join(data_dir, \"post_jsons\")\n",
    "files = os.listdir(raw_data_dir)"
   ]
  },
  {
   "cell_type": "code",
   "execution_count": 4,
   "id": "alternate-teach",
   "metadata": {
    "scrolled": true
   },
   "outputs": [
    {
     "data": {
      "text/plain": [
       "250883"
      ]
     },
     "execution_count": 4,
     "metadata": {},
     "output_type": "execute_result"
    }
   ],
   "source": [
    "len(files)"
   ]
  },
  {
   "cell_type": "code",
   "execution_count": 6,
   "id": "instant-clinton",
   "metadata": {},
   "outputs": [
    {
     "data": {
      "text/plain": [
       "'https://www.thelayoff.com/t/12k7jafh'"
      ]
     },
     "execution_count": 6,
     "metadata": {},
     "output_type": "execute_result"
    }
   ],
   "source": [
    "files[0].replace(\".json\", \"\")\n",
    "post_url = \"https://www.thelayoff.com/t/\" + files[0].replace(\".json\", \"\")\n",
    "post_url"
   ]
  },
  {
   "cell_type": "code",
   "execution_count": 7,
   "id": "local-warehouse",
   "metadata": {},
   "outputs": [],
   "source": [
    "def process_file(indir, filename):\n",
    "    filepath = os.path.join(indir, filename)\n",
    "    with open(filepath) as json_file:\n",
    "        data = json.load(json_file)\n",
    "    \n",
    "    post_url = \"https://www.thelayoff.com/t/\" + filename.replace(\".json\", \"\")\n",
    "    \n",
    "    company = data['company'][0]\n",
    "    \n",
    "    date = data['date'][0]\n",
    "    if date is None:\n",
    "        date = ''\n",
    "    \n",
    "    n_replies = data['n_replies'][0]\n",
    "    \n",
    "    # handle text\n",
    "    title = data['title'][0]\n",
    "    if len(data['text']) > 1:\n",
    "        text = \" <NEWPARA> \".join(data['text'])\n",
    "    else:\n",
    "        text = data['text']\n",
    "    \n",
    "    if len(text) > 0:\n",
    "        all_text = title + \" \" + text[0]\n",
    "    else:\n",
    "        all_text = title\n",
    "        \n",
    "    # replies\n",
    "    replies = []\n",
    "    for reply in data['replies']:\n",
    "        reply_text = reply['text'][0]\n",
    "        if reply_text is None:\n",
    "            reply_text = ''\n",
    "        replies.append(reply_text)\n",
    "    if len(replies) > 0:\n",
    "        replies = \" \".join(replies)\n",
    "        all_text = all_text + \" \" + replies\n",
    "\n",
    "    return post_url, company, date, n_replies, all_text"
   ]
  },
  {
   "cell_type": "code",
   "execution_count": 8,
   "id": "improved-smell",
   "metadata": {
    "scrolled": true
   },
   "outputs": [
    {
     "name": "stdout",
     "output_type": "stream",
     "text": [
      "Error on file all_posts.txt\n"
     ]
    }
   ],
   "source": [
    "out_path = os.path.join(data_dir, \"all_posts.txt\")\n",
    "with open(out_path, \"w\") as out_file:\n",
    "    for file in files:\n",
    "        try:\n",
    "            post_url, company, date, n_replies, all_text = process_file(raw_data_dir, file)\n",
    "            output = [post_url, company, date, str(n_replies), all_text]\n",
    "            out_file.writelines(\"\\t\".join(output) + \"\\n\")\n",
    "        except:\n",
    "            print(\"Error on file \" + file)"
   ]
  }
 ],
 "metadata": {
  "kernelspec": {
   "display_name": "Python 3",
   "language": "python",
   "name": "python3"
  },
  "language_info": {
   "codemirror_mode": {
    "name": "ipython",
    "version": 3
   },
   "file_extension": ".py",
   "mimetype": "text/x-python",
   "name": "python",
   "nbconvert_exporter": "python",
   "pygments_lexer": "ipython3",
   "version": "3.9.1"
  }
 },
 "nbformat": 4,
 "nbformat_minor": 5
}
